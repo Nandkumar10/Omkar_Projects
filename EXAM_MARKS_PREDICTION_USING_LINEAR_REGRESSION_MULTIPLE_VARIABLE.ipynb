{
  "nbformat": 4,
  "nbformat_minor": 0,
  "metadata": {
    "colab": {
      "provenance": [],
      "authorship_tag": "ABX9TyPCG/31YZWMIAlnP050dO1r",
      "include_colab_link": true
    },
    "kernelspec": {
      "name": "python3",
      "display_name": "Python 3"
    },
    "language_info": {
      "name": "python"
    }
  },
  "cells": [
    {
      "cell_type": "markdown",
      "metadata": {
        "id": "view-in-github",
        "colab_type": "text"
      },
      "source": [
        "<a href=\"https://colab.research.google.com/github/omkarbhosale1623/My-Projects/blob/main/EXAM_MARKS_PREDICTION_USING_LINEAR_REGRESSION_MULTIPLE_VARIABLE.ipynb\" target=\"_parent\"><img src=\"https://colab.research.google.com/assets/colab-badge.svg\" alt=\"Open In Colab\"/></a>"
      ]
    },
    {
      "cell_type": "markdown",
      "source": [
        "**Importing Libraries**"
      ],
      "metadata": {
        "id": "5LwArJgpiJby"
      }
    },
    {
      "cell_type": "code",
      "execution_count": null,
      "metadata": {
        "id": "e8MlD7rqPwfz"
      },
      "outputs": [],
      "source": [
        "import pandas as pd\n",
        "from sklearn.linear_model import LinearRegression"
      ]
    },
    {
      "cell_type": "markdown",
      "source": [
        "**Load Dataset from Local Directory**"
      ],
      "metadata": {
        "id": "kNoaMJoniZO_"
      }
    },
    {
      "cell_type": "code",
      "source": [
        "from google.colab import files\n",
        "uploaded = files.upload()"
      ],
      "metadata": {
        "colab": {
          "base_uri": "https://localhost:8080/",
          "height": 73
        },
        "id": "cpCodhR4cXxG",
        "outputId": "dd82b460-1d65-4ea9-d947-7fd7ddcbd757"
      },
      "execution_count": null,
      "outputs": [
        {
          "output_type": "display_data",
          "data": {
            "text/plain": [
              "<IPython.core.display.HTML object>"
            ],
            "text/html": [
              "\n",
              "     <input type=\"file\" id=\"files-23028d59-4d5a-410a-b98d-1614dbdb089f\" name=\"files[]\" multiple disabled\n",
              "        style=\"border:none\" />\n",
              "     <output id=\"result-23028d59-4d5a-410a-b98d-1614dbdb089f\">\n",
              "      Upload widget is only available when the cell has been executed in the\n",
              "      current browser session. Please rerun this cell to enable.\n",
              "      </output>\n",
              "      <script>// Copyright 2017 Google LLC\n",
              "//\n",
              "// Licensed under the Apache License, Version 2.0 (the \"License\");\n",
              "// you may not use this file except in compliance with the License.\n",
              "// You may obtain a copy of the License at\n",
              "//\n",
              "//      http://www.apache.org/licenses/LICENSE-2.0\n",
              "//\n",
              "// Unless required by applicable law or agreed to in writing, software\n",
              "// distributed under the License is distributed on an \"AS IS\" BASIS,\n",
              "// WITHOUT WARRANTIES OR CONDITIONS OF ANY KIND, either express or implied.\n",
              "// See the License for the specific language governing permissions and\n",
              "// limitations under the License.\n",
              "\n",
              "/**\n",
              " * @fileoverview Helpers for google.colab Python module.\n",
              " */\n",
              "(function(scope) {\n",
              "function span(text, styleAttributes = {}) {\n",
              "  const element = document.createElement('span');\n",
              "  element.textContent = text;\n",
              "  for (const key of Object.keys(styleAttributes)) {\n",
              "    element.style[key] = styleAttributes[key];\n",
              "  }\n",
              "  return element;\n",
              "}\n",
              "\n",
              "// Max number of bytes which will be uploaded at a time.\n",
              "const MAX_PAYLOAD_SIZE = 100 * 1024;\n",
              "\n",
              "function _uploadFiles(inputId, outputId) {\n",
              "  const steps = uploadFilesStep(inputId, outputId);\n",
              "  const outputElement = document.getElementById(outputId);\n",
              "  // Cache steps on the outputElement to make it available for the next call\n",
              "  // to uploadFilesContinue from Python.\n",
              "  outputElement.steps = steps;\n",
              "\n",
              "  return _uploadFilesContinue(outputId);\n",
              "}\n",
              "\n",
              "// This is roughly an async generator (not supported in the browser yet),\n",
              "// where there are multiple asynchronous steps and the Python side is going\n",
              "// to poll for completion of each step.\n",
              "// This uses a Promise to block the python side on completion of each step,\n",
              "// then passes the result of the previous step as the input to the next step.\n",
              "function _uploadFilesContinue(outputId) {\n",
              "  const outputElement = document.getElementById(outputId);\n",
              "  const steps = outputElement.steps;\n",
              "\n",
              "  const next = steps.next(outputElement.lastPromiseValue);\n",
              "  return Promise.resolve(next.value.promise).then((value) => {\n",
              "    // Cache the last promise value to make it available to the next\n",
              "    // step of the generator.\n",
              "    outputElement.lastPromiseValue = value;\n",
              "    return next.value.response;\n",
              "  });\n",
              "}\n",
              "\n",
              "/**\n",
              " * Generator function which is called between each async step of the upload\n",
              " * process.\n",
              " * @param {string} inputId Element ID of the input file picker element.\n",
              " * @param {string} outputId Element ID of the output display.\n",
              " * @return {!Iterable<!Object>} Iterable of next steps.\n",
              " */\n",
              "function* uploadFilesStep(inputId, outputId) {\n",
              "  const inputElement = document.getElementById(inputId);\n",
              "  inputElement.disabled = false;\n",
              "\n",
              "  const outputElement = document.getElementById(outputId);\n",
              "  outputElement.innerHTML = '';\n",
              "\n",
              "  const pickedPromise = new Promise((resolve) => {\n",
              "    inputElement.addEventListener('change', (e) => {\n",
              "      resolve(e.target.files);\n",
              "    });\n",
              "  });\n",
              "\n",
              "  const cancel = document.createElement('button');\n",
              "  inputElement.parentElement.appendChild(cancel);\n",
              "  cancel.textContent = 'Cancel upload';\n",
              "  const cancelPromise = new Promise((resolve) => {\n",
              "    cancel.onclick = () => {\n",
              "      resolve(null);\n",
              "    };\n",
              "  });\n",
              "\n",
              "  // Wait for the user to pick the files.\n",
              "  const files = yield {\n",
              "    promise: Promise.race([pickedPromise, cancelPromise]),\n",
              "    response: {\n",
              "      action: 'starting',\n",
              "    }\n",
              "  };\n",
              "\n",
              "  cancel.remove();\n",
              "\n",
              "  // Disable the input element since further picks are not allowed.\n",
              "  inputElement.disabled = true;\n",
              "\n",
              "  if (!files) {\n",
              "    return {\n",
              "      response: {\n",
              "        action: 'complete',\n",
              "      }\n",
              "    };\n",
              "  }\n",
              "\n",
              "  for (const file of files) {\n",
              "    const li = document.createElement('li');\n",
              "    li.append(span(file.name, {fontWeight: 'bold'}));\n",
              "    li.append(span(\n",
              "        `(${file.type || 'n/a'}) - ${file.size} bytes, ` +\n",
              "        `last modified: ${\n",
              "            file.lastModifiedDate ? file.lastModifiedDate.toLocaleDateString() :\n",
              "                                    'n/a'} - `));\n",
              "    const percent = span('0% done');\n",
              "    li.appendChild(percent);\n",
              "\n",
              "    outputElement.appendChild(li);\n",
              "\n",
              "    const fileDataPromise = new Promise((resolve) => {\n",
              "      const reader = new FileReader();\n",
              "      reader.onload = (e) => {\n",
              "        resolve(e.target.result);\n",
              "      };\n",
              "      reader.readAsArrayBuffer(file);\n",
              "    });\n",
              "    // Wait for the data to be ready.\n",
              "    let fileData = yield {\n",
              "      promise: fileDataPromise,\n",
              "      response: {\n",
              "        action: 'continue',\n",
              "      }\n",
              "    };\n",
              "\n",
              "    // Use a chunked sending to avoid message size limits. See b/62115660.\n",
              "    let position = 0;\n",
              "    do {\n",
              "      const length = Math.min(fileData.byteLength - position, MAX_PAYLOAD_SIZE);\n",
              "      const chunk = new Uint8Array(fileData, position, length);\n",
              "      position += length;\n",
              "\n",
              "      const base64 = btoa(String.fromCharCode.apply(null, chunk));\n",
              "      yield {\n",
              "        response: {\n",
              "          action: 'append',\n",
              "          file: file.name,\n",
              "          data: base64,\n",
              "        },\n",
              "      };\n",
              "\n",
              "      let percentDone = fileData.byteLength === 0 ?\n",
              "          100 :\n",
              "          Math.round((position / fileData.byteLength) * 100);\n",
              "      percent.textContent = `${percentDone}% done`;\n",
              "\n",
              "    } while (position < fileData.byteLength);\n",
              "  }\n",
              "\n",
              "  // All done.\n",
              "  yield {\n",
              "    response: {\n",
              "      action: 'complete',\n",
              "    }\n",
              "  };\n",
              "}\n",
              "\n",
              "scope.google = scope.google || {};\n",
              "scope.google.colab = scope.google.colab || {};\n",
              "scope.google.colab._files = {\n",
              "  _uploadFiles,\n",
              "  _uploadFilesContinue,\n",
              "};\n",
              "})(self);\n",
              "</script> "
            ]
          },
          "metadata": {}
        },
        {
          "output_type": "stream",
          "name": "stdout",
          "text": [
            "Saving exam_marks_dataset.csv to exam_marks_dataset.csv\n"
          ]
        }
      ]
    },
    {
      "cell_type": "markdown",
      "source": [
        "**Load Dataset**"
      ],
      "metadata": {
        "id": "Y2N83BsJipfP"
      }
    },
    {
      "cell_type": "code",
      "source": [
        "dataset = pd.read_csv('exam_marks_dataset.csv')"
      ],
      "metadata": {
        "id": "oQ611_CHc1JW"
      },
      "execution_count": null,
      "outputs": []
    },
    {
      "cell_type": "markdown",
      "source": [
        "**Load Summarize**"
      ],
      "metadata": {
        "id": "kQp2UogbiyWN"
      }
    },
    {
      "cell_type": "code",
      "source": [
        "print(dataset.shape)\n",
        "print(dataset.head(5))"
      ],
      "metadata": {
        "colab": {
          "base_uri": "https://localhost:8080/"
        },
        "id": "ojqogS6NdatP",
        "outputId": "409072d0-5a3b-41ce-ff71-700c3506d509"
      },
      "execution_count": null,
      "outputs": [
        {
          "output_type": "stream",
          "name": "stdout",
          "text": [
            "(202, 4)\n",
            "   Hours  Age  Internet  Marks\n",
            "0    NaN   24         0     66\n",
            "1    4.5   21         0     91\n",
            "2    5.0   21         1     99\n",
            "3    NaN   18         1     92\n",
            "4    3.0   21         0     74\n"
          ]
        }
      ]
    },
    {
      "cell_type": "markdown",
      "source": [
        "**Finding & Removing NA values from our Features X**"
      ],
      "metadata": {
        "id": "o6w2Keqvi5MP"
      }
    },
    {
      "cell_type": "code",
      "source": [
        "dataset.columns[dataset.isna().any()]"
      ],
      "metadata": {
        "colab": {
          "base_uri": "https://localhost:8080/"
        },
        "id": "TLQj5j0Cd83L",
        "outputId": "fbf1e7a4-da56-4b3a-e1ee-e1abc074ef3c"
      },
      "execution_count": null,
      "outputs": [
        {
          "output_type": "execute_result",
          "data": {
            "text/plain": [
              "Index(['Hours'], dtype='object')"
            ]
          },
          "metadata": {},
          "execution_count": 10
        }
      ]
    },
    {
      "cell_type": "code",
      "source": [
        "dataset.Hours = dataset.Hours.fillna(dataset.Hours.mean())\n",
        "dataset"
      ],
      "metadata": {
        "colab": {
          "base_uri": "https://localhost:8080/",
          "height": 423
        },
        "id": "ech9JI8mepEQ",
        "outputId": "c08ba19b-a5c2-449d-8938-22f9797e243f"
      },
      "execution_count": null,
      "outputs": [
        {
          "output_type": "execute_result",
          "data": {
            "text/plain": [
              "       Hours  Age  Internet  Marks\n",
              "0    4.05814   24         0     66\n",
              "1    4.50000   21         0     91\n",
              "2    5.00000   21         1     99\n",
              "3    4.05814   18         1     92\n",
              "4    3.00000   21         0     74\n",
              "..       ...  ...       ...    ...\n",
              "197  4.50000   22         1     79\n",
              "198  3.50000   18         0     83\n",
              "199  3.50000   21         1     92\n",
              "200  4.00000   19         0     54\n",
              "201  5.00000   21         1     87\n",
              "\n",
              "[202 rows x 4 columns]"
            ],
            "text/html": [
              "\n",
              "  <div id=\"df-4bef3e6d-a03a-4c4e-9f23-1ba885209dc1\" class=\"colab-df-container\">\n",
              "    <div>\n",
              "<style scoped>\n",
              "    .dataframe tbody tr th:only-of-type {\n",
              "        vertical-align: middle;\n",
              "    }\n",
              "\n",
              "    .dataframe tbody tr th {\n",
              "        vertical-align: top;\n",
              "    }\n",
              "\n",
              "    .dataframe thead th {\n",
              "        text-align: right;\n",
              "    }\n",
              "</style>\n",
              "<table border=\"1\" class=\"dataframe\">\n",
              "  <thead>\n",
              "    <tr style=\"text-align: right;\">\n",
              "      <th></th>\n",
              "      <th>Hours</th>\n",
              "      <th>Age</th>\n",
              "      <th>Internet</th>\n",
              "      <th>Marks</th>\n",
              "    </tr>\n",
              "  </thead>\n",
              "  <tbody>\n",
              "    <tr>\n",
              "      <th>0</th>\n",
              "      <td>4.05814</td>\n",
              "      <td>24</td>\n",
              "      <td>0</td>\n",
              "      <td>66</td>\n",
              "    </tr>\n",
              "    <tr>\n",
              "      <th>1</th>\n",
              "      <td>4.50000</td>\n",
              "      <td>21</td>\n",
              "      <td>0</td>\n",
              "      <td>91</td>\n",
              "    </tr>\n",
              "    <tr>\n",
              "      <th>2</th>\n",
              "      <td>5.00000</td>\n",
              "      <td>21</td>\n",
              "      <td>1</td>\n",
              "      <td>99</td>\n",
              "    </tr>\n",
              "    <tr>\n",
              "      <th>3</th>\n",
              "      <td>4.05814</td>\n",
              "      <td>18</td>\n",
              "      <td>1</td>\n",
              "      <td>92</td>\n",
              "    </tr>\n",
              "    <tr>\n",
              "      <th>4</th>\n",
              "      <td>3.00000</td>\n",
              "      <td>21</td>\n",
              "      <td>0</td>\n",
              "      <td>74</td>\n",
              "    </tr>\n",
              "    <tr>\n",
              "      <th>...</th>\n",
              "      <td>...</td>\n",
              "      <td>...</td>\n",
              "      <td>...</td>\n",
              "      <td>...</td>\n",
              "    </tr>\n",
              "    <tr>\n",
              "      <th>197</th>\n",
              "      <td>4.50000</td>\n",
              "      <td>22</td>\n",
              "      <td>1</td>\n",
              "      <td>79</td>\n",
              "    </tr>\n",
              "    <tr>\n",
              "      <th>198</th>\n",
              "      <td>3.50000</td>\n",
              "      <td>18</td>\n",
              "      <td>0</td>\n",
              "      <td>83</td>\n",
              "    </tr>\n",
              "    <tr>\n",
              "      <th>199</th>\n",
              "      <td>3.50000</td>\n",
              "      <td>21</td>\n",
              "      <td>1</td>\n",
              "      <td>92</td>\n",
              "    </tr>\n",
              "    <tr>\n",
              "      <th>200</th>\n",
              "      <td>4.00000</td>\n",
              "      <td>19</td>\n",
              "      <td>0</td>\n",
              "      <td>54</td>\n",
              "    </tr>\n",
              "    <tr>\n",
              "      <th>201</th>\n",
              "      <td>5.00000</td>\n",
              "      <td>21</td>\n",
              "      <td>1</td>\n",
              "      <td>87</td>\n",
              "    </tr>\n",
              "  </tbody>\n",
              "</table>\n",
              "<p>202 rows × 4 columns</p>\n",
              "</div>\n",
              "    <div class=\"colab-df-buttons\">\n",
              "\n",
              "  <div class=\"colab-df-container\">\n",
              "    <button class=\"colab-df-convert\" onclick=\"convertToInteractive('df-4bef3e6d-a03a-4c4e-9f23-1ba885209dc1')\"\n",
              "            title=\"Convert this dataframe to an interactive table.\"\n",
              "            style=\"display:none;\">\n",
              "\n",
              "  <svg xmlns=\"http://www.w3.org/2000/svg\" height=\"24px\" viewBox=\"0 -960 960 960\">\n",
              "    <path d=\"M120-120v-720h720v720H120Zm60-500h600v-160H180v160Zm220 220h160v-160H400v160Zm0 220h160v-160H400v160ZM180-400h160v-160H180v160Zm440 0h160v-160H620v160ZM180-180h160v-160H180v160Zm440 0h160v-160H620v160Z\"/>\n",
              "  </svg>\n",
              "    </button>\n",
              "\n",
              "  <style>\n",
              "    .colab-df-container {\n",
              "      display:flex;\n",
              "      gap: 12px;\n",
              "    }\n",
              "\n",
              "    .colab-df-convert {\n",
              "      background-color: #E8F0FE;\n",
              "      border: none;\n",
              "      border-radius: 50%;\n",
              "      cursor: pointer;\n",
              "      display: none;\n",
              "      fill: #1967D2;\n",
              "      height: 32px;\n",
              "      padding: 0 0 0 0;\n",
              "      width: 32px;\n",
              "    }\n",
              "\n",
              "    .colab-df-convert:hover {\n",
              "      background-color: #E2EBFA;\n",
              "      box-shadow: 0px 1px 2px rgba(60, 64, 67, 0.3), 0px 1px 3px 1px rgba(60, 64, 67, 0.15);\n",
              "      fill: #174EA6;\n",
              "    }\n",
              "\n",
              "    .colab-df-buttons div {\n",
              "      margin-bottom: 4px;\n",
              "    }\n",
              "\n",
              "    [theme=dark] .colab-df-convert {\n",
              "      background-color: #3B4455;\n",
              "      fill: #D2E3FC;\n",
              "    }\n",
              "\n",
              "    [theme=dark] .colab-df-convert:hover {\n",
              "      background-color: #434B5C;\n",
              "      box-shadow: 0px 1px 3px 1px rgba(0, 0, 0, 0.15);\n",
              "      filter: drop-shadow(0px 1px 2px rgba(0, 0, 0, 0.3));\n",
              "      fill: #FFFFFF;\n",
              "    }\n",
              "  </style>\n",
              "\n",
              "    <script>\n",
              "      const buttonEl =\n",
              "        document.querySelector('#df-4bef3e6d-a03a-4c4e-9f23-1ba885209dc1 button.colab-df-convert');\n",
              "      buttonEl.style.display =\n",
              "        google.colab.kernel.accessAllowed ? 'block' : 'none';\n",
              "\n",
              "      async function convertToInteractive(key) {\n",
              "        const element = document.querySelector('#df-4bef3e6d-a03a-4c4e-9f23-1ba885209dc1');\n",
              "        const dataTable =\n",
              "          await google.colab.kernel.invokeFunction('convertToInteractive',\n",
              "                                                    [key], {});\n",
              "        if (!dataTable) return;\n",
              "\n",
              "        const docLinkHtml = 'Like what you see? Visit the ' +\n",
              "          '<a target=\"_blank\" href=https://colab.research.google.com/notebooks/data_table.ipynb>data table notebook</a>'\n",
              "          + ' to learn more about interactive tables.';\n",
              "        element.innerHTML = '';\n",
              "        dataTable['output_type'] = 'display_data';\n",
              "        await google.colab.output.renderOutput(dataTable, element);\n",
              "        const docLink = document.createElement('div');\n",
              "        docLink.innerHTML = docLinkHtml;\n",
              "        element.appendChild(docLink);\n",
              "      }\n",
              "    </script>\n",
              "  </div>\n",
              "\n",
              "\n",
              "<div id=\"df-a51ccdfc-958f-4022-9577-304973634149\">\n",
              "  <button class=\"colab-df-quickchart\" onclick=\"quickchart('df-a51ccdfc-958f-4022-9577-304973634149')\"\n",
              "            title=\"Suggest charts.\"\n",
              "            style=\"display:none;\">\n",
              "\n",
              "<svg xmlns=\"http://www.w3.org/2000/svg\" height=\"24px\"viewBox=\"0 0 24 24\"\n",
              "     width=\"24px\">\n",
              "    <g>\n",
              "        <path d=\"M19 3H5c-1.1 0-2 .9-2 2v14c0 1.1.9 2 2 2h14c1.1 0 2-.9 2-2V5c0-1.1-.9-2-2-2zM9 17H7v-7h2v7zm4 0h-2V7h2v10zm4 0h-2v-4h2v4z\"/>\n",
              "    </g>\n",
              "</svg>\n",
              "  </button>\n",
              "\n",
              "<style>\n",
              "  .colab-df-quickchart {\n",
              "      --bg-color: #E8F0FE;\n",
              "      --fill-color: #1967D2;\n",
              "      --hover-bg-color: #E2EBFA;\n",
              "      --hover-fill-color: #174EA6;\n",
              "      --disabled-fill-color: #AAA;\n",
              "      --disabled-bg-color: #DDD;\n",
              "  }\n",
              "\n",
              "  [theme=dark] .colab-df-quickchart {\n",
              "      --bg-color: #3B4455;\n",
              "      --fill-color: #D2E3FC;\n",
              "      --hover-bg-color: #434B5C;\n",
              "      --hover-fill-color: #FFFFFF;\n",
              "      --disabled-bg-color: #3B4455;\n",
              "      --disabled-fill-color: #666;\n",
              "  }\n",
              "\n",
              "  .colab-df-quickchart {\n",
              "    background-color: var(--bg-color);\n",
              "    border: none;\n",
              "    border-radius: 50%;\n",
              "    cursor: pointer;\n",
              "    display: none;\n",
              "    fill: var(--fill-color);\n",
              "    height: 32px;\n",
              "    padding: 0;\n",
              "    width: 32px;\n",
              "  }\n",
              "\n",
              "  .colab-df-quickchart:hover {\n",
              "    background-color: var(--hover-bg-color);\n",
              "    box-shadow: 0 1px 2px rgba(60, 64, 67, 0.3), 0 1px 3px 1px rgba(60, 64, 67, 0.15);\n",
              "    fill: var(--button-hover-fill-color);\n",
              "  }\n",
              "\n",
              "  .colab-df-quickchart-complete:disabled,\n",
              "  .colab-df-quickchart-complete:disabled:hover {\n",
              "    background-color: var(--disabled-bg-color);\n",
              "    fill: var(--disabled-fill-color);\n",
              "    box-shadow: none;\n",
              "  }\n",
              "\n",
              "  .colab-df-spinner {\n",
              "    border: 2px solid var(--fill-color);\n",
              "    border-color: transparent;\n",
              "    border-bottom-color: var(--fill-color);\n",
              "    animation:\n",
              "      spin 1s steps(1) infinite;\n",
              "  }\n",
              "\n",
              "  @keyframes spin {\n",
              "    0% {\n",
              "      border-color: transparent;\n",
              "      border-bottom-color: var(--fill-color);\n",
              "      border-left-color: var(--fill-color);\n",
              "    }\n",
              "    20% {\n",
              "      border-color: transparent;\n",
              "      border-left-color: var(--fill-color);\n",
              "      border-top-color: var(--fill-color);\n",
              "    }\n",
              "    30% {\n",
              "      border-color: transparent;\n",
              "      border-left-color: var(--fill-color);\n",
              "      border-top-color: var(--fill-color);\n",
              "      border-right-color: var(--fill-color);\n",
              "    }\n",
              "    40% {\n",
              "      border-color: transparent;\n",
              "      border-right-color: var(--fill-color);\n",
              "      border-top-color: var(--fill-color);\n",
              "    }\n",
              "    60% {\n",
              "      border-color: transparent;\n",
              "      border-right-color: var(--fill-color);\n",
              "    }\n",
              "    80% {\n",
              "      border-color: transparent;\n",
              "      border-right-color: var(--fill-color);\n",
              "      border-bottom-color: var(--fill-color);\n",
              "    }\n",
              "    90% {\n",
              "      border-color: transparent;\n",
              "      border-bottom-color: var(--fill-color);\n",
              "    }\n",
              "  }\n",
              "</style>\n",
              "\n",
              "  <script>\n",
              "    async function quickchart(key) {\n",
              "      const quickchartButtonEl =\n",
              "        document.querySelector('#' + key + ' button');\n",
              "      quickchartButtonEl.disabled = true;  // To prevent multiple clicks.\n",
              "      quickchartButtonEl.classList.add('colab-df-spinner');\n",
              "      try {\n",
              "        const charts = await google.colab.kernel.invokeFunction(\n",
              "            'suggestCharts', [key], {});\n",
              "      } catch (error) {\n",
              "        console.error('Error during call to suggestCharts:', error);\n",
              "      }\n",
              "      quickchartButtonEl.classList.remove('colab-df-spinner');\n",
              "      quickchartButtonEl.classList.add('colab-df-quickchart-complete');\n",
              "    }\n",
              "    (() => {\n",
              "      let quickchartButtonEl =\n",
              "        document.querySelector('#df-a51ccdfc-958f-4022-9577-304973634149 button');\n",
              "      quickchartButtonEl.style.display =\n",
              "        google.colab.kernel.accessAllowed ? 'block' : 'none';\n",
              "    })();\n",
              "  </script>\n",
              "</div>\n",
              "    </div>\n",
              "  </div>\n"
            ]
          },
          "metadata": {},
          "execution_count": 11
        }
      ]
    },
    {
      "cell_type": "markdown",
      "source": [
        "**Segregate Data into Input X & Output Y.**"
      ],
      "metadata": {
        "id": "wa2WKvDVjkiI"
      }
    },
    {
      "cell_type": "code",
      "source": [
        "X = dataset.iloc[:,:-1].values\n",
        "print(X.shape)\n",
        "X"
      ],
      "metadata": {
        "colab": {
          "base_uri": "https://localhost:8080/"
        },
        "id": "TCMELaqYfPzC",
        "outputId": "a8e309ff-7ac8-4f1c-b41e-c8124f357aaa"
      },
      "execution_count": null,
      "outputs": [
        {
          "output_type": "stream",
          "name": "stdout",
          "text": [
            "(202, 3)\n"
          ]
        },
        {
          "output_type": "execute_result",
          "data": {
            "text/plain": [
              "array([[ 4.05813953, 24.        ,  0.        ],\n",
              "       [ 4.5       , 21.        ,  0.        ],\n",
              "       [ 5.        , 21.        ,  1.        ],\n",
              "       [ 4.05813953, 18.        ,  1.        ],\n",
              "       [ 3.        , 21.        ,  0.        ],\n",
              "       [ 3.        , 23.        ,  1.        ],\n",
              "       [ 5.        , 19.        ,  1.        ],\n",
              "       [ 4.        , 24.        ,  0.        ],\n",
              "       [ 4.        , 20.        ,  1.        ],\n",
              "       [ 4.5       , 24.        ,  0.        ],\n",
              "       [ 4.        , 20.        ,  0.        ],\n",
              "       [ 4.05813953, 21.        ,  1.        ],\n",
              "       [ 5.        , 20.        ,  1.        ],\n",
              "       [ 5.        , 21.        ,  0.        ],\n",
              "       [ 3.        , 19.        ,  1.        ],\n",
              "       [ 3.        , 20.        ,  0.        ],\n",
              "       [ 4.        , 22.        ,  1.        ],\n",
              "       [ 4.5       , 22.        ,  0.        ],\n",
              "       [ 4.5       , 19.        ,  0.        ],\n",
              "       [ 3.5       , 23.        ,  1.        ],\n",
              "       [ 3.5       , 21.        ,  1.        ],\n",
              "       [ 4.5       , 20.        ,  1.        ],\n",
              "       [ 4.5       , 18.        ,  0.        ],\n",
              "       [ 3.5       , 19.        ,  0.        ],\n",
              "       [ 3.5       , 18.        ,  1.        ],\n",
              "       [ 3.5       , 21.        ,  1.        ],\n",
              "       [ 5.        , 22.        ,  0.        ],\n",
              "       [ 3.5       , 23.        ,  0.        ],\n",
              "       [ 4.        , 19.        ,  1.        ],\n",
              "       [ 3.        , 23.        ,  1.        ],\n",
              "       [ 3.5       , 20.        ,  1.        ],\n",
              "       [ 4.05813953, 18.        ,  1.        ],\n",
              "       [ 4.5       , 24.        ,  0.        ],\n",
              "       [ 5.        , 21.        ,  0.        ],\n",
              "       [ 5.        , 20.        ,  1.        ],\n",
              "       [ 4.        , 21.        ,  0.        ],\n",
              "       [ 4.05813953, 21.        ,  1.        ],\n",
              "       [ 3.        , 24.        ,  0.        ],\n",
              "       [ 5.        , 24.        ,  0.        ],\n",
              "       [ 4.5       , 18.        ,  1.        ],\n",
              "       [ 3.5       , 22.        ,  1.        ],\n",
              "       [ 4.05813953, 22.        ,  1.        ],\n",
              "       [ 3.        , 24.        ,  1.        ],\n",
              "       [ 4.        , 21.        ,  0.        ],\n",
              "       [ 5.        , 18.        ,  1.        ],\n",
              "       [ 3.        , 21.        ,  1.        ],\n",
              "       [ 4.        , 21.        ,  1.        ],\n",
              "       [ 3.        , 22.        ,  1.        ],\n",
              "       [ 4.5       , 20.        ,  1.        ],\n",
              "       [ 5.        , 20.        ,  1.        ],\n",
              "       [ 5.        , 19.        ,  1.        ],\n",
              "       [ 4.        , 23.        ,  0.        ],\n",
              "       [ 3.        , 21.        ,  1.        ],\n",
              "       [ 4.5       , 24.        ,  0.        ],\n",
              "       [ 3.        , 21.        ,  0.        ],\n",
              "       [ 3.5       , 18.        ,  0.        ],\n",
              "       [ 3.5       , 21.        ,  0.        ],\n",
              "       [ 3.        , 20.        ,  1.        ],\n",
              "       [ 3.        , 21.        ,  1.        ],\n",
              "       [ 5.        , 18.        ,  0.        ],\n",
              "       [ 3.5       , 18.        ,  1.        ],\n",
              "       [ 5.        , 20.        ,  0.        ],\n",
              "       [ 3.        , 22.        ,  1.        ],\n",
              "       [ 3.5       , 21.        ,  0.        ],\n",
              "       [ 5.        , 18.        ,  0.        ],\n",
              "       [ 4.05813953, 19.        ,  1.        ],\n",
              "       [ 4.        , 24.        ,  0.        ],\n",
              "       [ 4.5       , 21.        ,  1.        ],\n",
              "       [ 4.5       , 19.        ,  1.        ],\n",
              "       [ 4.5       , 21.        ,  0.        ],\n",
              "       [ 4.05813953, 23.        ,  0.        ],\n",
              "       [ 4.5       , 21.        ,  0.        ],\n",
              "       [ 4.5       , 22.        ,  0.        ],\n",
              "       [ 5.        , 22.        ,  1.        ],\n",
              "       [ 3.        , 21.        ,  1.        ],\n",
              "       [ 5.        , 21.        ,  0.        ],\n",
              "       [ 4.        , 23.        ,  0.        ],\n",
              "       [ 5.        , 21.        ,  1.        ],\n",
              "       [ 3.5       , 23.        ,  0.        ],\n",
              "       [ 4.        , 21.        ,  1.        ],\n",
              "       [ 5.        , 21.        ,  1.        ],\n",
              "       [ 5.        , 23.        ,  0.        ],\n",
              "       [ 4.        , 24.        ,  1.        ],\n",
              "       [ 4.5       , 21.        ,  1.        ],\n",
              "       [ 4.05813953, 24.        ,  1.        ],\n",
              "       [ 4.05813953, 21.        ,  0.        ],\n",
              "       [ 4.05813953, 20.        ,  1.        ],\n",
              "       [ 3.        , 22.        ,  0.        ],\n",
              "       [ 4.05813953, 23.        ,  1.        ],\n",
              "       [ 5.        , 22.        ,  1.        ],\n",
              "       [ 3.        , 20.        ,  0.        ],\n",
              "       [ 5.        , 19.        ,  1.        ],\n",
              "       [ 4.        , 21.        ,  0.        ],\n",
              "       [ 4.        , 19.        ,  1.        ],\n",
              "       [ 4.5       , 24.        ,  1.        ],\n",
              "       [ 4.05813953, 18.        ,  1.        ],\n",
              "       [ 4.        , 21.        ,  1.        ],\n",
              "       [ 4.        , 19.        ,  1.        ],\n",
              "       [ 3.        , 22.        ,  0.        ],\n",
              "       [ 3.        , 22.        ,  1.        ],\n",
              "       [ 4.        , 22.        ,  0.        ],\n",
              "       [ 4.05813953, 21.        ,  0.        ],\n",
              "       [ 4.5       , 24.        ,  1.        ],\n",
              "       [ 4.05813953, 20.        ,  1.        ],\n",
              "       [ 5.        , 22.        ,  1.        ],\n",
              "       [ 3.        , 21.        ,  1.        ],\n",
              "       [ 4.5       , 18.        ,  1.        ],\n",
              "       [ 4.        , 18.        ,  1.        ],\n",
              "       [ 5.        , 19.        ,  1.        ],\n",
              "       [ 4.5       , 22.        ,  0.        ],\n",
              "       [ 4.        , 21.        ,  0.        ],\n",
              "       [ 4.05813953, 19.        ,  1.        ],\n",
              "       [ 3.5       , 18.        ,  1.        ],\n",
              "       [ 4.        , 18.        ,  1.        ],\n",
              "       [ 5.        , 18.        ,  0.        ],\n",
              "       [ 4.        , 21.        ,  0.        ],\n",
              "       [ 5.        , 23.        ,  0.        ],\n",
              "       [ 3.5       , 21.        ,  1.        ],\n",
              "       [ 4.05813953, 23.        ,  0.        ],\n",
              "       [ 3.        , 24.        ,  1.        ],\n",
              "       [ 3.5       , 23.        ,  1.        ],\n",
              "       [ 5.        , 24.        ,  1.        ],\n",
              "       [ 3.5       , 19.        ,  1.        ],\n",
              "       [ 4.        , 18.        ,  1.        ],\n",
              "       [ 5.        , 18.        ,  0.        ],\n",
              "       [ 4.        , 19.        ,  1.        ],\n",
              "       [ 3.        , 23.        ,  0.        ],\n",
              "       [ 3.5       , 22.        ,  1.        ],\n",
              "       [ 4.05813953, 24.        ,  0.        ],\n",
              "       [ 3.        , 19.        ,  1.        ],\n",
              "       [ 4.05813953, 19.        ,  1.        ],\n",
              "       [ 3.        , 24.        ,  0.        ],\n",
              "       [ 4.        , 23.        ,  1.        ],\n",
              "       [ 3.5       , 21.        ,  0.        ],\n",
              "       [ 4.5       , 23.        ,  0.        ],\n",
              "       [ 4.5       , 19.        ,  0.        ],\n",
              "       [ 4.5       , 22.        ,  1.        ],\n",
              "       [ 4.        , 20.        ,  0.        ],\n",
              "       [ 4.5       , 21.        ,  0.        ],\n",
              "       [ 4.5       , 21.        ,  0.        ],\n",
              "       [ 4.05813953, 21.        ,  1.        ],\n",
              "       [ 3.        , 22.        ,  0.        ],\n",
              "       [ 4.05813953, 23.        ,  1.        ],\n",
              "       [ 4.        , 18.        ,  1.        ],\n",
              "       [ 4.05813953, 22.        ,  0.        ],\n",
              "       [ 4.        , 23.        ,  1.        ],\n",
              "       [ 3.5       , 22.        ,  0.        ],\n",
              "       [ 3.        , 21.        ,  1.        ],\n",
              "       [ 4.05813953, 21.        ,  1.        ],\n",
              "       [ 4.5       , 23.        ,  1.        ],\n",
              "       [ 4.5       , 23.        ,  1.        ],\n",
              "       [ 4.5       , 24.        ,  0.        ],\n",
              "       [ 3.        , 20.        ,  1.        ],\n",
              "       [ 4.5       , 23.        ,  1.        ],\n",
              "       [ 5.        , 18.        ,  0.        ],\n",
              "       [ 3.5       , 23.        ,  1.        ],\n",
              "       [ 5.        , 23.        ,  0.        ],\n",
              "       [ 4.5       , 18.        ,  1.        ],\n",
              "       [ 3.5       , 23.        ,  0.        ],\n",
              "       [ 4.        , 21.        ,  1.        ],\n",
              "       [ 4.5       , 20.        ,  0.        ],\n",
              "       [ 3.        , 21.        ,  0.        ],\n",
              "       [ 4.5       , 22.        ,  0.        ],\n",
              "       [ 3.5       , 20.        ,  0.        ],\n",
              "       [ 5.        , 20.        ,  1.        ],\n",
              "       [ 4.5       , 24.        ,  0.        ],\n",
              "       [ 4.5       , 24.        ,  1.        ],\n",
              "       [ 3.        , 21.        ,  1.        ],\n",
              "       [ 4.5       , 24.        ,  0.        ],\n",
              "       [ 4.05813953, 24.        ,  0.        ],\n",
              "       [ 5.        , 23.        ,  0.        ],\n",
              "       [ 4.05813953, 21.        ,  1.        ],\n",
              "       [ 4.05813953, 18.        ,  1.        ],\n",
              "       [ 5.        , 22.        ,  0.        ],\n",
              "       [ 3.        , 23.        ,  1.        ],\n",
              "       [ 4.05813953, 18.        ,  0.        ],\n",
              "       [ 4.5       , 19.        ,  1.        ],\n",
              "       [ 4.5       , 22.        ,  0.        ],\n",
              "       [ 4.05813953, 21.        ,  0.        ],\n",
              "       [ 4.5       , 20.        ,  1.        ],\n",
              "       [ 3.        , 21.        ,  0.        ],\n",
              "       [ 3.5       , 24.        ,  1.        ],\n",
              "       [ 4.5       , 21.        ,  0.        ],\n",
              "       [ 4.5       , 20.        ,  0.        ],\n",
              "       [ 4.05813953, 21.        ,  0.        ],\n",
              "       [ 5.        , 18.        ,  0.        ],\n",
              "       [ 3.        , 23.        ,  1.        ],\n",
              "       [ 4.        , 23.        ,  0.        ],\n",
              "       [ 5.        , 18.        ,  0.        ],\n",
              "       [ 3.5       , 21.        ,  0.        ],\n",
              "       [ 5.        , 20.        ,  0.        ],\n",
              "       [ 4.5       , 22.        ,  0.        ],\n",
              "       [ 4.        , 24.        ,  0.        ],\n",
              "       [ 4.05813953, 24.        ,  1.        ],\n",
              "       [ 4.        , 22.        ,  1.        ],\n",
              "       [ 3.        , 20.        ,  1.        ],\n",
              "       [ 3.5       , 24.        ,  1.        ],\n",
              "       [ 4.5       , 22.        ,  1.        ],\n",
              "       [ 3.5       , 18.        ,  0.        ],\n",
              "       [ 3.5       , 21.        ,  1.        ],\n",
              "       [ 4.        , 19.        ,  0.        ],\n",
              "       [ 5.        , 21.        ,  1.        ]])"
            ]
          },
          "metadata": {},
          "execution_count": 12
        }
      ]
    },
    {
      "cell_type": "code",
      "source": [
        "Y = dataset.iloc[:,-1].values\n",
        "Y"
      ],
      "metadata": {
        "colab": {
          "base_uri": "https://localhost:8080/"
        },
        "id": "F1YTZcaTfkKh",
        "outputId": "223cc0d8-d85e-4788-90bb-6ef4c4381e51"
      },
      "execution_count": null,
      "outputs": [
        {
          "output_type": "execute_result",
          "data": {
            "text/plain": [
              "array([ 66,  91,  99,  92,  74,  75,  65,  80,  82,  53,  58,  55,  59,\n",
              "        90,  97,  60,  77,  70,  76,  72,  56,  96,  97,  90,  75,  92,\n",
              "        90,  99,  87,  94,  77,  96,  88,  71,  54,  67,  85,  64,  64,\n",
              "        97,  62,  91,  92,  97,  92,  79,  54,  61,  51,  70,  56,  76,\n",
              "        83,  53,  56,  66,  77,  84,  88,  69,  63,  99,  64,  82, 100,\n",
              "        53,  79,  55,  77,  60,  61,  63,  55,  77,  93,  89,  99,  72,\n",
              "        55,  80,  94,  91,  80,  98,  95,  85,  50,  98,  57,  56,  54,\n",
              "        94,  62,  70,  56,  99,  88,  55,  83,  91,  70,  89,  62,  88,\n",
              "        69,  63,  55,  52, 100,  62,  55,  57,  81,  86,  66,  72,  67,\n",
              "        79,  92,  61,  65,  52,  97,  99,  62,  89,  92,  85,  88,  99,\n",
              "        84,  74,  74,  52,  74,  65,  82,  92,  62,  54,  71,  85,  54,\n",
              "        95,  68,  93,  92,  73,  90,  89,  99,  93,  65,  72,  72,  77,\n",
              "        60,  69,  53,  58,  51,  62,  82,  61,  96, 100,  51,  55,  69,\n",
              "        59,  72,  66,  91,  93,  67,  51,  94,  53,  77,  76,  61,  92,\n",
              "        77,  78,  78,  75,  53,  80,  82,  79,  97,  64,  86,  99,  92,\n",
              "        80,  65,  79,  83,  92,  54,  87])"
            ]
          },
          "metadata": {},
          "execution_count": 13
        }
      ]
    },
    {
      "cell_type": "markdown",
      "source": [
        "**Spliting Dataset into Train & Test.**"
      ],
      "metadata": {
        "id": "SGlKLmJlokAh"
      }
    },
    {
      "cell_type": "code",
      "source": [
        "from sklearn.model_selection import train_test_split\n",
        "X_train,X_test,Y_train,Y_test = train_test_split(X,Y,test_size = 0.25 , random_state = 0)"
      ],
      "metadata": {
        "id": "uMr8cqQxotRm"
      },
      "execution_count": 27,
      "outputs": []
    },
    {
      "cell_type": "markdown",
      "source": [
        "**Training Dataset using Linear Regression**"
      ],
      "metadata": {
        "id": "hcXrPhDMj3xY"
      }
    },
    {
      "cell_type": "code",
      "source": [
        "model = LinearRegression()\n",
        "model.fit(X_train,Y_train)"
      ],
      "metadata": {
        "colab": {
          "base_uri": "https://localhost:8080/",
          "height": 74
        },
        "id": "IK-7YQv-gQXe",
        "outputId": "7180ba47-1429-4c00-a554-339cbe996b29"
      },
      "execution_count": 28,
      "outputs": [
        {
          "output_type": "execute_result",
          "data": {
            "text/plain": [
              "LinearRegression()"
            ],
            "text/html": [
              "<style>#sk-container-id-2 {color: black;background-color: white;}#sk-container-id-2 pre{padding: 0;}#sk-container-id-2 div.sk-toggleable {background-color: white;}#sk-container-id-2 label.sk-toggleable__label {cursor: pointer;display: block;width: 100%;margin-bottom: 0;padding: 0.3em;box-sizing: border-box;text-align: center;}#sk-container-id-2 label.sk-toggleable__label-arrow:before {content: \"▸\";float: left;margin-right: 0.25em;color: #696969;}#sk-container-id-2 label.sk-toggleable__label-arrow:hover:before {color: black;}#sk-container-id-2 div.sk-estimator:hover label.sk-toggleable__label-arrow:before {color: black;}#sk-container-id-2 div.sk-toggleable__content {max-height: 0;max-width: 0;overflow: hidden;text-align: left;background-color: #f0f8ff;}#sk-container-id-2 div.sk-toggleable__content pre {margin: 0.2em;color: black;border-radius: 0.25em;background-color: #f0f8ff;}#sk-container-id-2 input.sk-toggleable__control:checked~div.sk-toggleable__content {max-height: 200px;max-width: 100%;overflow: auto;}#sk-container-id-2 input.sk-toggleable__control:checked~label.sk-toggleable__label-arrow:before {content: \"▾\";}#sk-container-id-2 div.sk-estimator input.sk-toggleable__control:checked~label.sk-toggleable__label {background-color: #d4ebff;}#sk-container-id-2 div.sk-label input.sk-toggleable__control:checked~label.sk-toggleable__label {background-color: #d4ebff;}#sk-container-id-2 input.sk-hidden--visually {border: 0;clip: rect(1px 1px 1px 1px);clip: rect(1px, 1px, 1px, 1px);height: 1px;margin: -1px;overflow: hidden;padding: 0;position: absolute;width: 1px;}#sk-container-id-2 div.sk-estimator {font-family: monospace;background-color: #f0f8ff;border: 1px dotted black;border-radius: 0.25em;box-sizing: border-box;margin-bottom: 0.5em;}#sk-container-id-2 div.sk-estimator:hover {background-color: #d4ebff;}#sk-container-id-2 div.sk-parallel-item::after {content: \"\";width: 100%;border-bottom: 1px solid gray;flex-grow: 1;}#sk-container-id-2 div.sk-label:hover label.sk-toggleable__label {background-color: #d4ebff;}#sk-container-id-2 div.sk-serial::before {content: \"\";position: absolute;border-left: 1px solid gray;box-sizing: border-box;top: 0;bottom: 0;left: 50%;z-index: 0;}#sk-container-id-2 div.sk-serial {display: flex;flex-direction: column;align-items: center;background-color: white;padding-right: 0.2em;padding-left: 0.2em;position: relative;}#sk-container-id-2 div.sk-item {position: relative;z-index: 1;}#sk-container-id-2 div.sk-parallel {display: flex;align-items: stretch;justify-content: center;background-color: white;position: relative;}#sk-container-id-2 div.sk-item::before, #sk-container-id-2 div.sk-parallel-item::before {content: \"\";position: absolute;border-left: 1px solid gray;box-sizing: border-box;top: 0;bottom: 0;left: 50%;z-index: -1;}#sk-container-id-2 div.sk-parallel-item {display: flex;flex-direction: column;z-index: 1;position: relative;background-color: white;}#sk-container-id-2 div.sk-parallel-item:first-child::after {align-self: flex-end;width: 50%;}#sk-container-id-2 div.sk-parallel-item:last-child::after {align-self: flex-start;width: 50%;}#sk-container-id-2 div.sk-parallel-item:only-child::after {width: 0;}#sk-container-id-2 div.sk-dashed-wrapped {border: 1px dashed gray;margin: 0 0.4em 0.5em 0.4em;box-sizing: border-box;padding-bottom: 0.4em;background-color: white;}#sk-container-id-2 div.sk-label label {font-family: monospace;font-weight: bold;display: inline-block;line-height: 1.2em;}#sk-container-id-2 div.sk-label-container {text-align: center;}#sk-container-id-2 div.sk-container {/* jupyter's `normalize.less` sets `[hidden] { display: none; }` but bootstrap.min.css set `[hidden] { display: none !important; }` so we also need the `!important` here to be able to override the default hidden behavior on the sphinx rendered scikit-learn.org. See: https://github.com/scikit-learn/scikit-learn/issues/21755 */display: inline-block !important;position: relative;}#sk-container-id-2 div.sk-text-repr-fallback {display: none;}</style><div id=\"sk-container-id-2\" class=\"sk-top-container\"><div class=\"sk-text-repr-fallback\"><pre>LinearRegression()</pre><b>In a Jupyter environment, please rerun this cell to show the HTML representation or trust the notebook. <br />On GitHub, the HTML representation is unable to render, please try loading this page with nbviewer.org.</b></div><div class=\"sk-container\" hidden><div class=\"sk-item\"><div class=\"sk-estimator sk-toggleable\"><input class=\"sk-toggleable__control sk-hidden--visually\" id=\"sk-estimator-id-2\" type=\"checkbox\" checked><label for=\"sk-estimator-id-2\" class=\"sk-toggleable__label sk-toggleable__label-arrow\">LinearRegression</label><div class=\"sk-toggleable__content\"><pre>LinearRegression()</pre></div></div></div></div></div>"
            ]
          },
          "metadata": {},
          "execution_count": 28
        }
      ]
    },
    {
      "cell_type": "markdown",
      "source": [
        "**Predicted Marks**"
      ],
      "metadata": {
        "id": "IgppfDeikWl3"
      }
    },
    {
      "cell_type": "code",
      "source": [
        "Hours = float(input(\"How many Hours do Candidate Study: \"))\n",
        "Age = int(input(\"Enter the Candidate's Age: \"))\n",
        "Internet = int(input(\"Does the Candidate have an internet connection (0 for No, 1 for Yes): \"))\n",
        "input_data = {\n",
        "    'Hours': [Hours],\n",
        "    'Age': [Age],\n",
        "    'Internet': [Internet]\n",
        "}\n",
        "# Create a DataFrame from the input data\n",
        "input_df = pd.DataFrame(input_data)\n",
        "result = model.predict(input_df)\n",
        "print(result)"
      ],
      "metadata": {
        "colab": {
          "base_uri": "https://localhost:8080/"
        },
        "id": "hz204taFpR2R",
        "outputId": "7af8069b-5ffc-4dbd-e162-1f12e0b5040a"
      },
      "execution_count": 32,
      "outputs": [
        {
          "output_type": "stream",
          "name": "stdout",
          "text": [
            "How many Hours do Candidate Study: 10.2\n",
            "Enter the Candidate's Age: 18\n",
            "Does the Candidate have an internet connection (0 for No, 1 for Yes): 1\n",
            "[73.81355338]\n"
          ]
        },
        {
          "output_type": "stream",
          "name": "stderr",
          "text": [
            "/usr/local/lib/python3.10/dist-packages/sklearn/base.py:432: UserWarning: X has feature names, but LinearRegression was fitted without feature names\n",
            "  warnings.warn(\n"
          ]
        }
      ]
    },
    {
      "cell_type": "code",
      "source": [
        "#Taking user parameters\n",
        "a = [[10.2,18,1]]\n",
        "PredictedmodelResult = model.predict(a)\n",
        "print(PredictedmodelResult)"
      ],
      "metadata": {
        "colab": {
          "base_uri": "https://localhost:8080/"
        },
        "id": "F8mfEjg_ggKT",
        "outputId": "5b36ccd7-3143-41f9-dde8-2994ed393646"
      },
      "execution_count": null,
      "outputs": [
        {
          "output_type": "stream",
          "name": "stdout",
          "text": [
            "[80.97803873]\n"
          ]
        }
      ]
    }
  ]
}